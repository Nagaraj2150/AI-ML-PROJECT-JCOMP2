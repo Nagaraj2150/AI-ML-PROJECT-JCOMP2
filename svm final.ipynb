{
  "nbformat": 4,
  "nbformat_minor": 0,
  "metadata": {
    "colab": {
      "provenance": []
    },
    "kernelspec": {
      "name": "python3",
      "display_name": "Python 3"
    },
    "language_info": {
      "name": "python"
    }
  },
  "cells": [
    {
      "cell_type": "code",
      "execution_count": 43,
      "metadata": {
        "id": "-BlyTFAmEEDW"
      },
      "outputs": [],
      "source": [
        "import numpy as np\n",
        "import matplotlib.pyplot as plt\n",
        "import pandas as pd"
      ]
    },
    {
      "cell_type": "code",
      "source": [
        "dataset = pd.read_csv('/content/vgsales.csv')\n",
        "# our dataset in this implementation is small, and thus we can print it all instead of viewing only the end\n",
        "print(dataset)\n"
      ],
      "metadata": {
        "colab": {
          "base_uri": "https://localhost:8080/"
        },
        "id": "hhZweSC0EXKy",
        "outputId": "a4b8d87c-c830-4fdd-f107-eec521d2dc18"
      },
      "execution_count": 44,
      "outputs": [
        {
          "output_type": "stream",
          "name": "stdout",
          "text": [
            "        Rank                                              Name  Year  \\\n",
            "0          1                                        Wii Sports  2006   \n",
            "1          2                                 Super Mario Bros.  1985   \n",
            "2          3                                    Mario Kart Wii  2008   \n",
            "3          4                                 Wii Sports Resort  2009   \n",
            "4          5                          Pokemon Red/Pokemon Blue  1996   \n",
            "...      ...                                               ...   ...   \n",
            "16593  16596                Woody Woodpecker in Crazy Castle 5  2002   \n",
            "16594  16597                     Men in Black II: Alien Escape  2003   \n",
            "16595  16598  SCORE International Baja 1000: The Official Game  2008   \n",
            "16596  16599                                        Know How 2  2010   \n",
            "16597  16600                                  Spirits & Spells  2003   \n",
            "\n",
            "              Genre  NA_Sales  EU_Sales  JP_Sales  Other_Sales  Global_Sales  \n",
            "0            Sports     41.49     29.02      3.77         8.46         82.74  \n",
            "1          Platform     29.08      3.58      6.81         0.77         40.24  \n",
            "2            Racing     15.85     12.88      3.79         3.31         35.82  \n",
            "3            Sports     15.75     11.01      3.28         2.96         33.00  \n",
            "4      Role-Playing     11.27      8.89     10.22         1.00         31.37  \n",
            "...             ...       ...       ...       ...          ...           ...  \n",
            "16593      Platform      0.01      0.00      0.00         0.00          0.01  \n",
            "16594       Shooter      0.01      0.00      0.00         0.00          0.01  \n",
            "16595        Racing      0.00      0.00      0.00         0.00          0.01  \n",
            "16596        Puzzle      0.00      0.01      0.00         0.00          0.01  \n",
            "16597      Platform      0.01      0.00      0.00         0.00          0.01  \n",
            "\n",
            "[16598 rows x 9 columns]\n"
          ]
        }
      ]
    },
    {
      "cell_type": "code",
      "source": [
        "# split the data into featutes and target variable seperately\n",
        "X_l = dataset.iloc[:, -7].values # features set\n",
        "y_p = dataset.iloc[:, -1].values # set of study variable"
      ],
      "metadata": {
        "id": "8Zs-Lza0FuhK"
      },
      "execution_count": 45,
      "outputs": []
    },
    {
      "cell_type": "code",
      "source": [
        "print(X_l)\n",
        "print(y_p)"
      ],
      "metadata": {
        "colab": {
          "base_uri": "https://localhost:8080/"
        },
        "id": "ohDAakyzEm95",
        "outputId": "a1f4a6a5-122d-44fa-bead-da3a5088fda9"
      },
      "execution_count": 46,
      "outputs": [
        {
          "output_type": "stream",
          "name": "stdout",
          "text": [
            "[2006 1985 2008 ... 2008 2010 2003]\n",
            "[8.274e+01 4.024e+01 3.582e+01 ... 1.000e-02 1.000e-02 1.000e-02]\n"
          ]
        }
      ]
    },
    {
      "cell_type": "code",
      "source": [
        "y_p = y_p.reshape(-1,1)\n",
        "print(y_p)\n",
        "X_p=X_l.reshape(-1,1)\n",
        "print(X_p)"
      ],
      "metadata": {
        "colab": {
          "base_uri": "https://localhost:8080/"
        },
        "id": "LptXThS2HM0i",
        "outputId": "15bc276b-27b6-40a6-d0aa-a1d90520acda"
      },
      "execution_count": 47,
      "outputs": [
        {
          "output_type": "stream",
          "name": "stdout",
          "text": [
            "[[8.274e+01]\n",
            " [4.024e+01]\n",
            " [3.582e+01]\n",
            " ...\n",
            " [1.000e-02]\n",
            " [1.000e-02]\n",
            " [1.000e-02]]\n",
            "[[2006]\n",
            " [1985]\n",
            " [2008]\n",
            " ...\n",
            " [2008]\n",
            " [2010]\n",
            " [2003]]\n"
          ]
        }
      ]
    },
    {
      "cell_type": "code",
      "source": [
        "from sklearn.preprocessing import StandardScaler\n",
        "StdS_X = StandardScaler()\n",
        "StdS_y = StandardScaler()\n",
        "X_p = StdS_X.fit_transform(X_p)\n",
        "y_p = StdS_y.fit_transform(y_p)\n"
      ],
      "metadata": {
        "id": "fZfzyqVWHuwP"
      },
      "execution_count": 48,
      "outputs": []
    },
    {
      "cell_type": "code",
      "source": [
        "print(\"Scaled X_p:\")\n",
        "print(X_p)\n",
        "print(\"Scaled y_p:\")\n",
        "print(y_p)"
      ],
      "metadata": {
        "colab": {
          "base_uri": "https://localhost:8080/"
        },
        "id": "RSqzCidWHze3",
        "outputId": "00a0ecd8-2a0d-4399-e8d1-a3d397d653eb"
      },
      "execution_count": 49,
      "outputs": [
        {
          "output_type": "stream",
          "name": "stdout",
          "text": [
            "Scaled X_p:\n",
            "[[-0.07197676]\n",
            " [-3.70424462]\n",
            " [ 0.27395352]\n",
            " ...\n",
            " [ 0.27395352]\n",
            " [ 0.61988379]\n",
            " [-0.59087217]]\n",
            "Scaled y_p:\n",
            "[[52.86402505]\n",
            " [25.53250298]\n",
            " [22.69002469]\n",
            " ...\n",
            " [-0.33919426]\n",
            " [-0.33919426]\n",
            " [-0.33919426]]\n"
          ]
        }
      ]
    },
    {
      "cell_type": "code",
      "source": [
        "plt.scatter(X_p, y_p, color = 'blue') # plotting the training set\n",
        "plt.title('Scatter Plot') # adding a tittle to our plot\n",
        "plt.xlabel('Year') # adds a label to the x-axis\n",
        "plt.ylabel('Global_Sales') # adds a label to the y-axis\n",
        "plt.show() # prints"
      ],
      "metadata": {
        "colab": {
          "base_uri": "https://localhost:8080/",
          "height": 472
        },
        "id": "QZg6FL4CIhvr",
        "outputId": "d67db0f3-fad8-4695-bb4b-027d3f05ce2e"
      },
      "execution_count": 50,
      "outputs": [
        {
          "output_type": "display_data",
          "data": {
            "text/plain": [
              "<Figure size 640x480 with 1 Axes>"
            ],
            "image/png": "[encoded data removed]"
          },
          "metadata": {}
        }
      ]
    },
    {
      "cell_type": "code",
      "source": [
        "# import the model\n",
        "from sklearn.svm import SVR\n",
        "# create the model object\n",
        "regressor = SVR(kernel = 'rbf')\n",
        "# fit the model on the data\n",
        "regressor.fit(X_p, y_p)"
      ],
      "metadata": {
        "colab": {
          "base_uri": "https://localhost:8080/",
          "height": 129
        },
        "id": "JEojjhTDJZun",
        "outputId": "27dcbe02-568d-4589-999c-8aee50f2fb67"
      },
      "execution_count": 51,
      "outputs": [
        {
          "output_type": "stream",
          "name": "stderr",
          "text": [
            "/usr/local/lib/python3.9/dist-packages/sklearn/utils/validation.py:1143: DataConversionWarning: A column-vector y was passed when a 1d array was expected. Please change the shape of y to (n_samples, ), for example using ravel().\n",
            "  y = column_or_1d(y, warn=True)\n"
          ]
        },
        {
          "output_type": "execute_result",
          "data": {
            "text/plain": [
              "SVR()"
            ],
            "text/html": [
              "<style>#sk-container-id-2 {color: black;background-color: white;}#sk-container-id-2 pre{padding: 0;}#sk-container-id-2 div.sk-toggleable {background-color: white;}#sk-container-id-2 label.sk-toggleable__label {cursor: pointer;display: block;width: 100%;margin-bottom: 0;padding: 0.3em;box-sizing: border-box;text-align: center;}#sk-container-id-2 label.sk-toggleable__label-arrow:before {content: \"▸\";float: left;margin-right: 0.25em;color: #696969;}#sk-container-id-2 label.sk-toggleable__label-arrow:hover:before {color: black;}#sk-container-id-2 div.sk-estimator:hover label.sk-toggleable__label-arrow:before {color: black;}#sk-container-id-2 div.sk-toggleable__content {max-height: 0;max-width: 0;overflow: hidden;text-align: left;background-color: #f0f8ff;}#sk-container-id-2 div.sk-toggleable__content pre {margin: 0.2em;color: black;border-radius: 0.25em;background-color: #f0f8ff;}#sk-container-id-2 input.sk-toggleable__control:checked~div.sk-toggleable__content {max-height: 200px;max-width: 100%;overflow: auto;}#sk-container-id-2 input.sk-toggleable__control:checked~label.sk-toggleable__label-arrow:before {content: \"▾\";}#sk-container-id-2 div.sk-estimator input.sk-toggleable__control:checked~label.sk-toggleable__label {background-color: #d4ebff;}#sk-container-id-2 div.sk-label input.sk-toggleable__control:checked~label.sk-toggleable__label {background-color: #d4ebff;}#sk-container-id-2 input.sk-hidden--visually {border: 0;clip: rect(1px 1px 1px 1px);clip: rect(1px, 1px, 1px, 1px);height: 1px;margin: -1px;overflow: hidden;padding: 0;position: absolute;width: 1px;}#sk-container-id-2 div.sk-estimator {font-family: monospace;background-color: #f0f8ff;border: 1px dotted black;border-radius: 0.25em;box-sizing: border-box;margin-bottom: 0.5em;}#sk-container-id-2 div.sk-estimator:hover {background-color: #d4ebff;}#sk-container-id-2 div.sk-parallel-item::after {content: \"\";width: 100%;border-bottom: 1px solid gray;flex-grow: 1;}#sk-container-id-2 div.sk-label:hover label.sk-toggleable__label {background-color: #d4ebff;}#sk-container-id-2 div.sk-serial::before {content: \"\";position: absolute;border-left: 1px solid gray;box-sizing: border-box;top: 0;bottom: 0;left: 50%;z-index: 0;}#sk-container-id-2 div.sk-serial {display: flex;flex-direction: column;align-items: center;background-color: white;padding-right: 0.2em;padding-left: 0.2em;position: relative;}#sk-container-id-2 div.sk-item {position: relative;z-index: 1;}#sk-container-id-2 div.sk-parallel {display: flex;align-items: stretch;justify-content: center;background-color: white;position: relative;}#sk-container-id-2 div.sk-item::before, #sk-container-id-2 div.sk-parallel-item::before {content: \"\";position: absolute;border-left: 1px solid gray;box-sizing: border-box;top: 0;bottom: 0;left: 50%;z-index: -1;}#sk-container-id-2 div.sk-parallel-item {display: flex;flex-direction: column;z-index: 1;position: relative;background-color: white;}#sk-container-id-2 div.sk-parallel-item:first-child::after {align-self: flex-end;width: 50%;}#sk-container-id-2 div.sk-parallel-item:last-child::after {align-self: flex-start;width: 50%;}#sk-container-id-2 div.sk-parallel-item:only-child::after {width: 0;}#sk-container-id-2 div.sk-dashed-wrapped {border: 1px dashed gray;margin: 0 0.4em 0.5em 0.4em;box-sizing: border-box;padding-bottom: 0.4em;background-color: white;}#sk-container-id-2 div.sk-label label {font-family: monospace;font-weight: bold;display: inline-block;line-height: 1.2em;}#sk-container-id-2 div.sk-label-container {text-align: center;}#sk-container-id-2 div.sk-container {/* jupyter's `normalize.less` sets `[hidden] { display: none; }` but bootstrap.min.css set `[hidden] { display: none !important; }` so we also need the `!important` here to be able to override the default hidden behavior on the sphinx rendered scikit-learn.org. See: https://github.com/scikit-learn/scikit-learn/issues/21755 */display: inline-block !important;position: relative;}#sk-container-id-2 div.sk-text-repr-fallback {display: none;}</style><div id=\"sk-container-id-2\" class=\"sk-top-container\"><div class=\"sk-text-repr-fallback\"><pre>SVR()</pre><b>In a Jupyter environment, please rerun this cell to show the HTML representation or trust the notebook. <br />On GitHub, the HTML representation is unable to render, please try loading this page with nbviewer.org.</b></div><div class=\"sk-container\" hidden><div class=\"sk-item\"><div class=\"sk-estimator sk-toggleable\"><input class=\"sk-toggleable__control sk-hidden--visually\" id=\"sk-estimator-id-2\" type=\"checkbox\" checked><label for=\"sk-estimator-id-2\" class=\"sk-toggleable__label sk-toggleable__label-arrow\">SVR</label><div class=\"sk-toggleable__content\"><pre>SVR()</pre></div></div></div></div></div>"
            ]
          },
          "metadata": {},
          "execution_count": 51
        }
      ]
    },
    {
      "cell_type": "code",
      "source": [
        "A=regressor.predict(StdS_X.transform([[6.5]]))\n",
        "print(A)\n",
        "A = A.reshape(-1,1)"
      ],
      "metadata": {
        "colab": {
          "base_uri": "https://localhost:8080/"
        },
        "id": "amKuFRmSR3h1",
        "outputId": "aceefce4-ad5b-4379-e46f-91167097dfce"
      },
      "execution_count": 54,
      "outputs": [
        {
          "output_type": "stream",
          "name": "stdout",
          "text": [
            "[-0.01370785]\n"
          ]
        }
      ]
    },
    {
      "cell_type": "code",
      "source": [
        "# Taking the inverse of the scaled value\n",
        "A_pred = StdS_y.inverse_transform(A)\n",
        "print(A_pred)"
      ],
      "metadata": {
        "colab": {
          "base_uri": "https://localhost:8080/"
        },
        "id": "xfK7_eGwR_FJ",
        "outputId": "7f8bb5a0-f31b-44b6-d84b-eac8795cabe4"
      },
      "execution_count": 55,
      "outputs": [
        {
          "output_type": "stream",
          "name": "stdout",
          "text": [
            "[[0.51612521]]\n"
          ]
        }
      ]
    },
    {
      "cell_type": "code",
      "source": [
        "B_pred = StdS_y.inverse_transform(regressor.predict(StdS_X.transform([[6.5]])).reshape(-1,1))\n",
        "print(B_pred)"
      ],
      "metadata": {
        "colab": {
          "base_uri": "https://localhost:8080/"
        },
        "id": "ecrvSemrSCkl",
        "outputId": "46072544-bf4b-47b1-cb42-3ad13e70c565"
      },
      "execution_count": 58,
      "outputs": [
        {
          "output_type": "stream",
          "name": "stdout",
          "text": [
            "[[0.51612521]]\n"
          ]
        }
      ]
    },
    {
      "cell_type": "code",
      "source": [
        "# inverse the transformation to go back to the initial scale\n",
        "plt.scatter(StdS_X.inverse_transform(X_p), StdS_y.inverse_transform(y_p), color = 'blue')\n",
        "plt.scatter(StdS_X.inverse_transform(X_p), StdS_y.inverse_transform(regressor.predict(X_p).reshape(-1,1)), color = 'red')\n",
        "# add the title to the plot\n",
        "plt.title('Support Vector Regression Model')\n",
        "# label x axis\n",
        "plt.xlabel('Year')\n",
        "# label y axis\n",
        "plt.ylabel('Global Sales')\n",
        "# print the plot\n",
        "plt.show()"
      ],
      "metadata": {
        "colab": {
          "base_uri": "https://localhost:8080/",
          "height": 472
        },
        "id": "a5mxEHh7SLGR",
        "outputId": "c129eba5-d6a1-4669-aff5-6b23c6d48486"
      },
      "execution_count": 59,
      "outputs": [
        {
          "output_type": "display_data",
          "data": {
            "text/plain": [
              "<Figure size 640x480 with 1 Axes>"
            ],
            "image/png": "[encoded data removed]"
          },
          "metadata": {}
        }
      ]
    },
    {
      "cell_type": "code",
      "source": [
        "from sklearn.model_selection import train_test_split\n",
        "X_p_train,X_p_test,y_p_train,y_p_test=train_test_split(X_p,y_p,test_size=0.3,random_state=2529)\n",
        "X_p_train.shape,X_p_test.shape,y_p_train.shape,y_p_test.shape"
      ],
      "metadata": {
        "colab": {
          "base_uri": "https://localhost:8080/"
        },
        "id": "Fptnxj-16XTj",
        "outputId": "ce96bd2a-fc1e-4da7-92ed-608ff0ef2311"
      },
      "execution_count": 60,
      "outputs": [
        {
          "output_type": "execute_result",
          "data": {
            "text/plain": [
              "((11618, 1), (4980, 1), (11618, 1), (4980, 1))"
            ]
          },
          "metadata": {},
          "execution_count": 60
        }
      ]
    },
    {
      "cell_type": "code",
      "source": [
        "from sklearn import linear_model\n",
        "from sklearn.metrics import mean_squared_error,mean_absolute_error\n",
        "reg_all=SVR()\n",
        "reg_all.fit(X_p_train,y_p_train)\n",
        "y_p_pred=reg_all.predict(X_p_test)\n",
        "Rsquare=reg_all.score(X_p_test,y_p_test)\n",
        "print(\"Rsquare: %f\" %(Rsquare))\n",
        "print(\"Intercept: %f\" %(reg_all.intercept_))\n",
        "mse=mean_squared_error(y_p_test,y_p_pred)\n",
        "print(\"mse: %f\" %(mse))\n",
        "mae = mean_absolute_error(y_p_test,y_p_pred)\n",
        "print(\"mae: %f\" %(mae))"
      ],
      "metadata": {
        "colab": {
          "base_uri": "https://localhost:8080/"
        },
        "id": "QhLf4Ql_5lGu",
        "outputId": "5dcf7bae-f4b9-4997-9af0-9db76cf8a44f"
      },
      "execution_count": 61,
      "outputs": [
        {
          "output_type": "stream",
          "name": "stderr",
          "text": [
            "/usr/local/lib/python3.9/dist-packages/sklearn/utils/validation.py:1143: DataConversionWarning: A column-vector y was passed when a 1d array was expected. Please change the shape of y to (n_samples, ), for example using ravel().\n",
            "  y = column_or_1d(y, warn=True)\n"
          ]
        },
        {
          "output_type": "stream",
          "name": "stdout",
          "text": [
            "Rsquare: -0.013648\n",
            "Intercept: -0.024773\n",
            "mse: 1.019002\n",
            "mae: 0.295377\n"
          ]
        }
      ]
    }
  ]
}